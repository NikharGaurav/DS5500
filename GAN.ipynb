{
  "nbformat": 4,
  "nbformat_minor": 0,
  "metadata": {
    "colab": {
      "name": "GAN",
      "provenance": [],
      "collapsed_sections": [],
      "machine_shape": "hm",
      "include_colab_link": true
    },
    "kernelspec": {
      "name": "python3",
      "display_name": "Python 3"
    },
    "accelerator": "GPU"
  },
  "cells": [
    {
      "cell_type": "markdown",
      "metadata": {
        "id": "view-in-github",
        "colab_type": "text"
      },
      "source": [
        "<a href=\"https://colab.research.google.com/github/NikharGaurav/DS5500/blob/master/GAN.ipynb\" target=\"_parent\"><img src=\"https://colab.research.google.com/assets/colab-badge.svg\" alt=\"Open In Colab\"/></a>"
      ]
    },
    {
      "cell_type": "code",
      "metadata": {
        "id": "t6XPIWFsmxAo",
        "colab_type": "code",
        "colab": {}
      },
      "source": [
        "from numpy import load\n",
        "from numpy import zeros\n",
        "from numpy import ones\n",
        "from numpy.random import randint\n",
        "from keras.optimizers import Adam\n",
        "from keras.initializers import RandomNormal\n",
        "from keras.models import Model\n",
        "from keras.models import Input\n",
        "from keras.layers import Conv2D\n",
        "from keras.layers import Conv2DTranspose\n",
        "from keras.layers import LeakyReLU\n",
        "from keras.layers import Activation\n",
        "from keras.layers import Concatenate\n",
        "from keras.layers import Dropout\n",
        "from keras.layers import BatchNormalization\n",
        "from keras.layers import LeakyReLU\n",
        "from matplotlib import pyplot"
      ],
      "execution_count": 0,
      "outputs": []
    },
    {
      "cell_type": "code",
      "metadata": {
        "id": "SUN1kdL6m2K4",
        "colab_type": "code",
        "colab": {}
      },
      "source": [
        "from os import listdir\n",
        "from numpy import asarray\n",
        "from numpy import vstack\n",
        "from keras.preprocessing.image import img_to_array\n",
        "from keras.preprocessing.image import load_img\n",
        "from numpy import savez_compressed\n",
        "import os\n",
        "from keras.models import load_model\n",
        "from numpy import vstack\n",
        "from matplotlib import pyplot as plt\n",
        "from numpy.random import randint\n",
        "import numpy as np\n",
        "import cv2 as cv\n",
        "from skimage.transform import resize, rescale"
      ],
      "execution_count": 0,
      "outputs": []
    },
    {
      "cell_type": "code",
      "metadata": {
        "id": "UXG0HYDtKT-Q",
        "colab_type": "code",
        "colab": {}
      },
      "source": [
        "import pickle\n",
        "from PIL import Image\n",
        "from matplotlib import cm"
      ],
      "execution_count": 0,
      "outputs": []
    },
    {
      "cell_type": "code",
      "metadata": {
        "id": "KZiNpGiWm2N1",
        "colab_type": "code",
        "outputId": "ce8374c4-b624-4833-b9fa-5ee84e1b7fcc",
        "colab": {
          "base_uri": "https://localhost:8080/",
          "height": 121
        }
      },
      "source": [
        "from google.colab import drive\n",
        "drive.mount('/content/gdrive')"
      ],
      "execution_count": 5,
      "outputs": [
        {
          "output_type": "stream",
          "text": [
            "Go to this URL in a browser: https://accounts.google.com/o/oauth2/auth?client_id=947318989803-6bn6qk8qdgf4n4g3pfee6491hc0brc4i.apps.googleusercontent.com&redirect_uri=urn%3Aietf%3Awg%3Aoauth%3A2.0%3Aoob&scope=email%20https%3A%2F%2Fwww.googleapis.com%2Fauth%2Fdocs.test%20https%3A%2F%2Fwww.googleapis.com%2Fauth%2Fdrive%20https%3A%2F%2Fwww.googleapis.com%2Fauth%2Fdrive.photos.readonly%20https%3A%2F%2Fwww.googleapis.com%2Fauth%2Fpeopleapi.readonly&response_type=code\n",
            "\n",
            "Enter your authorization code:\n",
            "··········\n",
            "Mounted at /content/gdrive\n"
          ],
          "name": "stdout"
        }
      ]
    },
    {
      "cell_type": "code",
      "metadata": {
        "id": "kU_Rexn3m2T5",
        "colab_type": "code",
        "colab": {}
      },
      "source": [
        "def read_data(path,x,y):\n",
        "    x_train=[]\n",
        "    count=0\n",
        "    for i in range(10,950):\n",
        "        image_file=path+x+'/'+str(i)+'.png'\n",
        "        image_arr = plt.imread(image_file)\n",
        "        # image_arr=image_arr[0:1050,0:1100]\n",
        "#         image_arr= cv.resize(image_arr,(256,256))\n",
        "        image_arr= image_arr[...,:3]\n",
        "        # image_resized = resize(image_arr, (512, 512),anti_aliasing=True)\n",
        "#         x_train.append(image_arr[0:1050,0:1100])\n",
        "        x_train.append(image_arr)\n",
        "        count+=1\n",
        "        if(count%100==0):\n",
        "           print(count)\n",
        "          \n",
        "    print(\"started for y\")\n",
        "    y_train=[]\n",
        "    count=0\n",
        "    for i in range(10,950):\n",
        "        image_file=path+y+'/'+str(i)+'.png'\n",
        "        image_arr = plt.imread(image_file)\n",
        "        image_arr\n",
        "        # image_arr=image_arr[0:1050,0:1100]\n",
        "        # im = im.resize((256, 256), Image.ANTIALIAS)\n",
        "        image_arr= image_arr[...,:3]\n",
        "#         image_arr= cv.resize(image_arr,(256,256))\n",
        "        image_resized = resize(image_arr, (256, 256),anti_aliasing=True)\n",
        "        y_train.append(image_resized)\n",
        "        count+=1\n",
        "        if (count%100==0):\n",
        "          print(count)\n",
        "#         y_train.append(image_arr[0:1050,0:1100])\n",
        "    \n",
        "    return [asarray(x_train), asarray(y_train)] \n",
        "    \n",
        "    \n",
        "  \n",
        "  \n",
        "  "
      ],
      "execution_count": 0,
      "outputs": []
    },
    {
      "cell_type": "code",
      "metadata": {
        "id": "SnyEeX9_v4V8",
        "colab_type": "code",
        "colab": {}
      },
      "source": [
        "def define_discriminator(image_shape):\n",
        "\t# weight initialization\n",
        "\tinit = RandomNormal(stddev=0.02)\n",
        "\t# source image input\n",
        "\tin_src_image = Input(shape=image_shape)\n",
        "\t# target image input\n",
        "\tin_target_image = Input(shape=image_shape)\n",
        "\t# concatenate images channel-wise\n",
        "\tmerged = Concatenate()([in_src_image, in_target_image])\n",
        "\t# C64\n",
        "\td = Conv2D(64, (4,4), strides=(2,2), padding='same', kernel_initializer=init)(merged)\n",
        "\td = LeakyReLU(alpha=0.2)(d)\n",
        "\t# C128\n",
        "\td = Conv2D(128, (4,4), strides=(2,2), padding='same', kernel_initializer=init)(d)\n",
        "\td = BatchNormalization()(d)\n",
        "\td = LeakyReLU(alpha=0.2)(d)\n",
        "\t# C256\n",
        "\td = Conv2D(256, (4,4), strides=(2,2), padding='same', kernel_initializer=init)(d)\n",
        "\td = BatchNormalization()(d)\n",
        "\td = LeakyReLU(alpha=0.2)(d)\n",
        "\t# C512\n",
        "\td = Conv2D(512, (4,4), strides=(2,2), padding='same', kernel_initializer=init)(d)\n",
        "\td = BatchNormalization()(d)\n",
        "\td = LeakyReLU(alpha=0.2)(d)\n",
        "\t# second last output layer\n",
        "\td = Conv2D(512, (4,4), padding='same', kernel_initializer=init)(d)\n",
        "\td = BatchNormalization()(d)\n",
        "\td = LeakyReLU(alpha=0.2)(d)\n",
        "\t# patch output\n",
        "\td = Conv2D(1, (4,4), padding='same', kernel_initializer=init)(d)\n",
        "\tpatch_out = Activation('sigmoid')(d)\n",
        "\t# define model\n",
        "\tmodel = Model([in_src_image, in_target_image], patch_out)\n",
        "\t# compile model\n",
        "\topt = Adam(lr=0.0002, beta_1=0.5)\n",
        "\tmodel.compile(loss='binary_crossentropy', optimizer=opt, loss_weights=[0.5])\n",
        "\treturn model"
      ],
      "execution_count": 0,
      "outputs": []
    },
    {
      "cell_type": "code",
      "metadata": {
        "id": "mcRTrw1UytoT",
        "colab_type": "code",
        "colab": {}
      },
      "source": [
        "# define an encoder block\n",
        "def define_encoder_block(layer_in, n_filters, batchnorm=True):\n",
        "\t# weight initialization\n",
        "\tinit = RandomNormal(stddev=0.02)\n",
        "\t# add downsampling layer\n",
        "\tg = Conv2D(n_filters, (4,4), strides=(2,2), padding='same', kernel_initializer=init)(layer_in)\n",
        "\t# conditionally add batch normalization\n",
        "\tif batchnorm:\n",
        "\t\tg = BatchNormalization()(g, training=True)\n",
        "\t# leaky relu activation\n",
        "\tg = LeakyReLU(alpha=0.2)(g)\n",
        "\treturn g\n",
        " \n",
        "# define a decoder block\n",
        "def decoder_block(layer_in, skip_in, n_filters, dropout=True):\n",
        "\t# weight initialization\n",
        "\tinit = RandomNormal(stddev=0.02)\n",
        "\t# add upsampling layer\n",
        "\tg = Conv2DTranspose(n_filters, (4,4), strides=(2,2), padding='same', kernel_initializer=init)(layer_in)\n",
        "\t# add batch normalization\n",
        "\tg = BatchNormalization()(g, training=True)\n",
        "\t# conditionally add dropout\n",
        "\tif dropout:\n",
        "\t\tg = Dropout(0.5)(g, training=True)\n",
        "\t# merge with skip connection\n",
        "\tg = Concatenate()([g, skip_in])\n",
        "\t# relu activation\n",
        "\tg = Activation('relu')(g)\n",
        "\treturn g"
      ],
      "execution_count": 0,
      "outputs": []
    },
    {
      "cell_type": "code",
      "metadata": {
        "id": "U0vHZzdqv4fO",
        "colab_type": "code",
        "colab": {}
      },
      "source": [
        "# define the standalone generator model\n",
        "def define_generator(image_shape=(256,256,3)):\n",
        "\t# weight initialization\n",
        "\tinit = RandomNormal(stddev=0.02)\n",
        "\t# image input\n",
        "\tin_image = Input(shape=image_shape)\n",
        "\t# encoder model\n",
        "\te1 = define_encoder_block(in_image, 64, batchnorm=False)\n",
        "\te2 = define_encoder_block(e1, 128)\n",
        "\te3 = define_encoder_block(e2, 256)\n",
        "\te4 = define_encoder_block(e3, 512)\n",
        "\te5 = define_encoder_block(e4, 512)\n",
        "\te6 = define_encoder_block(e5, 512)\n",
        "\te7 = define_encoder_block(e6, 512)\n",
        "\t# bottleneck, no batch norm and relu\n",
        "\tb = Conv2D(512, (4,4), strides=(2,2), padding='same', kernel_initializer=init)(e7)\n",
        "\tb = Activation('relu')(b)\n",
        "\t# decoder model\n",
        "\td1 = decoder_block(b, e7, 512)\n",
        "\td2 = decoder_block(d1, e6, 512)\n",
        "\td3 = decoder_block(d2, e5, 512)\n",
        "\td4 = decoder_block(d3, e4, 512, dropout=False)\n",
        "\td5 = decoder_block(d4, e3, 256, dropout=False)\n",
        "\td6 = decoder_block(d5, e2, 128, dropout=False)\n",
        "\td7 = decoder_block(d6, e1, 64, dropout=False)\n",
        "\t# output\n",
        "\tg = Conv2DTranspose(3, (4,4), strides=(2,2), padding='same', kernel_initializer=init)(d7)\n",
        "\tout_image = Activation('tanh')(g)\n",
        "\t# define model\n",
        "\tmodel = Model(in_image, out_image)\n",
        "\treturn model"
      ],
      "execution_count": 0,
      "outputs": []
    },
    {
      "cell_type": "code",
      "metadata": {
        "id": "TlwigsAPy2OJ",
        "colab_type": "code",
        "colab": {}
      },
      "source": [
        "def define_gan(g_model, d_model, image_shape):\n",
        "\t# make weights in the discriminator not trainable\n",
        "\td_model.trainable = False\n",
        "\t# define the source image\n",
        "\tin_src = Input(shape=image_shape)\n",
        "\t# connect the source image to the generator input\n",
        "\tgen_out = g_model(in_src)\n",
        "\t# connect the source input and generator output to the discriminator input\n",
        "\tdis_out = d_model([in_src, gen_out])\n",
        "\t# src image as input, generated image and classification output\n",
        "\tmodel = Model(in_src, [dis_out, gen_out])\n",
        "\t# compile model\n",
        "\topt = Adam(lr=0.0002, beta_1=0.5)\n",
        "\tmodel.compile(loss=['binary_crossentropy', 'mae'], optimizer=opt, loss_weights=[1,100])\n",
        "\treturn model"
      ],
      "execution_count": 0,
      "outputs": []
    },
    {
      "cell_type": "code",
      "metadata": {
        "id": "LSdhG-Phy_Rd",
        "colab_type": "code",
        "colab": {}
      },
      "source": [
        "def generate_real_samples(dataset, n_samples, patch_shape):\n",
        "\t# unpack dataset\n",
        "\ttrainA, trainB = dataset\n",
        "\t# choose random instances\n",
        "\tix = randint(0, trainA.shape[0], n_samples)\n",
        "\t# retrieve selected images\n",
        "\tX1, X2 = trainA[ix], trainB[ix]\n",
        "\t# generate 'real' class labels (1)\n",
        "\ty = ones((n_samples, patch_shape, patch_shape, 1))\n",
        "\treturn [X1, X2], y\n",
        " \n",
        "# generate a batch of images, returns images and targets\n",
        "def generate_fake_samples(g_model, samples, patch_shape):\n",
        "\t# generate fake instance\n",
        "\tX = g_model.predict(samples)\n",
        "\t# create 'fake' class labels (0)\n",
        "\ty = zeros((len(X), patch_shape, patch_shape, 1))\n",
        "\treturn X, y\n",
        " \n",
        "# generate samples and save as a plot and save the model\n",
        "def summarize_performance(step, g_model, dataset, n_samples=3):\n",
        "\t# select a sample of input images\n",
        "\t[X_realA, X_realB], _ = generate_real_samples(dataset, n_samples, 1)\n",
        "\t# generate a batch of fake samples\n",
        "\tX_fakeB, _ = generate_fake_samples(g_model, X_realA, 1)\n",
        "\t# scale all pixels from [-1,1] to [0,1]\n",
        "\tX_realA = (X_realA + 1) / 2.0\n",
        "\tX_realB = (X_realB + 1) / 2.0\n",
        "\tX_fakeB = (X_fakeB + 1) / 2.0\n",
        "\t# plot real source images\n",
        "\tfor i in range(n_samples):\n",
        "\t\tpyplot.subplot(3, n_samples, 1 + i)\n",
        "\t\tpyplot.axis('off')\n",
        "\t\tpyplot.imshow(X_realA[i])\n",
        "\t# plot generated target image\n",
        "\tfor i in range(n_samples):\n",
        "\t\tpyplot.subplot(3, n_samples, 1 + n_samples + i)\n",
        "\t\tpyplot.axis('off')\n",
        "\t\tpyplot.imshow(X_fakeB[i])\n",
        "\t# plot real target image\n",
        "\tfor i in range(n_samples):\n",
        "\t\tpyplot.subplot(3, n_samples, 1 + n_samples*2 + i)\n",
        "\t\tpyplot.axis('off')\n",
        "\t\tpyplot.imshow(X_realB[i])\n",
        "\t# save plot to file\n",
        "\tfilename1 = model_path+ 'plot_%06d.png' % (step+1)\n",
        "\tpyplot.savefig(filename1)\n",
        "\tpyplot.close()\n",
        "\t# save the generator model\n",
        "\tfilename2 = model_path + 'model_%06d.h5' % (step+1)\n",
        "\tg_model.save(filename2)\n",
        "\tprint('>Saved: %s and %s' % (filename1, filename2))"
      ],
      "execution_count": 0,
      "outputs": []
    },
    {
      "cell_type": "code",
      "metadata": {
        "id": "1MkSJ6Aoy_Ul",
        "colab_type": "code",
        "colab": {}
      },
      "source": [
        "def train(d_model, g_model, gan_model, dataset, n_epochs=100, n_batch=1):\n",
        "\t# determine the output square shape of the discriminator\n",
        "\tn_patch = d_model.output_shape[1]\n",
        "\t# unpack dataset\n",
        "\ttrainA, trainB = dataset\n",
        "\t# calculate the number of batches per training epoch\n",
        "\tbat_per_epo = int(len(trainA) / n_batch)\n",
        "\t# calculate the number of training iterations\n",
        "\tn_steps = bat_per_epo * n_epochs\n",
        "\t# manually enumerate epochs\n",
        "\tfor i in range(n_steps):\n",
        "\t\t# select a batch of real samples\n",
        "\t\t[X_realA, X_realB], y_real = generate_real_samples(dataset, n_batch, n_patch)\n",
        "\t\t# generate a batch of fake samples\n",
        "\t\tX_fakeB, y_fake = generate_fake_samples(g_model, X_realA, n_patch)\n",
        "\t\t# update discriminator for real samples\n",
        "\t\td_loss1 = d_model.train_on_batch([X_realA, X_realB], y_real)\n",
        "\t\t# update discriminator for generated samples\n",
        "\t\td_loss2 = d_model.train_on_batch([X_realA, X_fakeB], y_fake)\n",
        "\t\t# update the generator\n",
        "\t\tg_loss, _, _ = gan_model.train_on_batch(X_realA, [y_real, X_realB])\n",
        "\t\t# summarize performance\n",
        "\t\tprint('>%d, d1[%.3f] d2[%.3f] g[%.3f]' % (i+1, d_loss1, d_loss2, g_loss))\n",
        "\t\t# summarize model performance\n",
        "\t\tif (i+1) % (bat_per_epo * 5) == 0:\n",
        "\t\t\tsummarize_performance(i, g_model, dataset)"
      ],
      "execution_count": 0,
      "outputs": []
    },
    {
      "cell_type": "code",
      "metadata": {
        "id": "fnCtEet8zF3M",
        "colab_type": "code",
        "colab": {}
      },
      "source": [
        "# plot source, generated and target images\n",
        "def plot_images(src_img, gen_img, tar_img):\n",
        "\timages = vstack((src_img, gen_img, tar_img))\n",
        "\t# scale from [-1,1] to [0,1]\n",
        "\timages = (images + 1) / 2.0\n",
        "\ttitles = ['Source', 'Generated', 'Expected']\n",
        "\t# plot images row by row\n",
        "\tfor i in range(len(images)):\n",
        "\t\t# define subplot\n",
        "\t\tpyplot.subplot(1, 3, 1 + i)\n",
        "\t\t# turn off axis\n",
        "\t\tpyplot.axis('off')\n",
        "\t\t# plot raw pixel data\n",
        "\t\tpyplot.imshow(images[i])\n",
        "\t\t# show title\n",
        "\t\tpyplot.title(titles[i])\n",
        "\tpyplot.show()"
      ],
      "execution_count": 0,
      "outputs": []
    },
    {
      "cell_type": "code",
      "metadata": {
        "id": "C-fCZ__-zF5x",
        "colab_type": "code",
        "colab": {}
      },
      "source": [
        ""
      ],
      "execution_count": 0,
      "outputs": []
    },
    {
      "cell_type": "code",
      "metadata": {
        "id": "XbAXmWGiy_XT",
        "colab_type": "code",
        "outputId": "1f5bffd7-ca8d-4f93-f1ba-614c854f47fc",
        "colab": {
          "base_uri": "https://localhost:8080/",
          "height": 34
        }
      },
      "source": [
        "len(dataset[0])"
      ],
      "execution_count": 0,
      "outputs": [
        {
          "output_type": "execute_result",
          "data": {
            "text/plain": [
              "500"
            ]
          },
          "metadata": {
            "tags": []
          },
          "execution_count": 8
        }
      ]
    },
    {
      "cell_type": "code",
      "metadata": {
        "id": "dgcZ74DxovYn",
        "colab_type": "code",
        "outputId": "6435be07-e275-49ee-cd89-c101e374f86f",
        "colab": {
          "base_uri": "https://localhost:8080/",
          "height": 336
        }
      },
      "source": [
        "path= 'gdrive/My Drive/DS 5500/Data/PSdata/Google_Images/processed/'\n",
        "dataset= read_data(path,'superimposed_950','street_950')"
      ],
      "execution_count": 6,
      "outputs": [
        {
          "output_type": "stream",
          "text": [
            "100\n",
            "200\n",
            "300\n",
            "400\n",
            "500\n",
            "600\n",
            "700\n",
            "800\n",
            "900\n",
            "started for y\n",
            "100\n",
            "200\n",
            "300\n",
            "400\n",
            "500\n",
            "600\n",
            "700\n",
            "800\n",
            "900\n"
          ],
          "name": "stdout"
        }
      ]
    },
    {
      "cell_type": "code",
      "metadata": {
        "id": "dm2FeHyfzs9f",
        "colab_type": "code",
        "colab": {}
      },
      "source": [
        "model_path='gdrive/My Drive/DS 5500/Data/PSdata/Google_Images/Gan_Model_5/'"
      ],
      "execution_count": 0,
      "outputs": []
    },
    {
      "cell_type": "code",
      "metadata": {
        "id": "-Nbh8Gv-wIpC",
        "colab_type": "code",
        "outputId": "736809d9-4cbb-439b-a77c-fd2ca9a4baad",
        "colab": {
          "base_uri": "https://localhost:8080/",
          "height": 50
        }
      },
      "source": [
        "print('Loaded', dataset[0].shape, dataset[1].shape)\n",
        "image_shape = dataset[0].shape[1:]\n",
        "print(image_shape)"
      ],
      "execution_count": 0,
      "outputs": [
        {
          "output_type": "stream",
          "text": [
            "Loaded (940, 256, 256, 3) (940, 256, 256, 3)\n",
            "(256, 256, 3)\n"
          ],
          "name": "stdout"
        }
      ]
    },
    {
      "cell_type": "code",
      "metadata": {
        "id": "NltkEdOV0oAZ",
        "colab_type": "code",
        "colab": {}
      },
      "source": [
        "d_model = define_discriminator(image_shape)\n",
        "g_model = define_generator(image_shape)\n",
        "gan_model = define_gan(g_model, d_model, image_shape)"
      ],
      "execution_count": 0,
      "outputs": []
    },
    {
      "cell_type": "code",
      "metadata": {
        "id": "ZWai3Uo-0oDM",
        "colab_type": "code",
        "colab": {}
      },
      "source": [
        "train(d_model, g_model, gan_model, dataset)"
      ],
      "execution_count": 0,
      "outputs": []
    },
    {
      "cell_type": "code",
      "metadata": {
        "id": "vrabrDltvioz",
        "colab_type": "code",
        "outputId": "1c875c7b-d746-493b-fe39-7fbb661ceeae",
        "colab": {
          "base_uri": "https://localhost:8080/",
          "height": 34
        }
      },
      "source": [
        "image_shape = x.shape[1:]"
      ],
      "execution_count": 0,
      "outputs": [
        {
          "output_type": "execute_result",
          "data": {
            "text/plain": [
              "(512, 512, 3)"
            ]
          },
          "metadata": {
            "tags": []
          },
          "execution_count": 28
        }
      ]
    },
    {
      "cell_type": "code",
      "metadata": {
        "id": "6aIdhVRPovbU",
        "colab_type": "code",
        "colab": {}
      },
      "source": [
        "model_gen=load_model('gdrive/My Drive/DS 5500/Data/PSdata/Google_Images/Gan_Model_5/model_018800.h5')"
      ],
      "execution_count": 0,
      "outputs": []
    },
    {
      "cell_type": "code",
      "metadata": {
        "id": "QLfEvXs5ovd3",
        "colab_type": "code",
        "outputId": "4e1ee6b5-3e88-475e-da18-fbe2717f91d9",
        "colab": {
          "base_uri": "https://localhost:8080/",
          "height": 34
        }
      },
      "source": [
        "model_gen"
      ],
      "execution_count": 0,
      "outputs": [
        {
          "output_type": "execute_result",
          "data": {
            "text/plain": [
              "<keras.engine.training.Model at 0x7fb4d5aac208>"
            ]
          },
          "metadata": {
            "tags": []
          },
          "execution_count": 13
        }
      ]
    },
    {
      "cell_type": "code",
      "metadata": {
        "id": "LX8aB9rbrvm5",
        "colab_type": "code",
        "colab": {}
      },
      "source": [
        "predicted=model_gen.predict(dataset[0])"
      ],
      "execution_count": 0,
      "outputs": []
    },
    {
      "cell_type": "code",
      "metadata": {
        "id": "cAB0XJ8FsOGD",
        "colab_type": "code",
        "outputId": "8cd73d7c-cf76-4f04-b43a-36eab16afa6d",
        "colab": {
          "base_uri": "https://localhost:8080/",
          "height": 34
        }
      },
      "source": [
        "np.shape(predicted)"
      ],
      "execution_count": 9,
      "outputs": [
        {
          "output_type": "execute_result",
          "data": {
            "text/plain": [
              "(940, 256, 256, 3)"
            ]
          },
          "metadata": {
            "tags": []
          },
          "execution_count": 9
        }
      ]
    },
    {
      "cell_type": "code",
      "metadata": {
        "id": "I31pSR3Ym2XW",
        "colab_type": "code",
        "colab": {}
      },
      "source": [
        "save_path='gdrive/My Drive/DS 5500/Data/PSdata/Google_Images/Gan_Model_5/predicted/'\n",
        "plt.imshow(predicted[img])"
      ],
      "execution_count": 0,
      "outputs": []
    },
    {
      "cell_type": "code",
      "metadata": {
        "id": "jyOtvDCYKO7L",
        "colab_type": "code",
        "colab": {}
      },
      "source": [
        "save_path='gdrive/My Drive/DS 5500/Evaluation/New_gan_model/'\n",
        "pickle.dump( dataset,save_path+\"dataset\",'wb')\n",
        "pickle.dump( predicted,save_path+\"predicted\",'wb')\n"
      ],
      "execution_count": 0,
      "outputs": []
    },
    {
      "cell_type": "code",
      "metadata": {
        "id": "bfKNoX19M7ss",
        "colab_type": "code",
        "colab": {}
      },
      "source": [
        "save_path='gdrive/My Drive/DS 5500/Evaluation/New_gan_model/'\n",
        "with open(save_path+\"dataset\", 'wb') as file:\n",
        "    pickle.dump(dataset,file)"
      ],
      "execution_count": 0,
      "outputs": []
    },
    {
      "cell_type": "code",
      "metadata": {
        "id": "S1Pq16sKN2RS",
        "colab_type": "code",
        "colab": {}
      },
      "source": [
        "save_path='gdrive/My Drive/DS 5500/Evaluation/New_gan_model/'\n",
        "with open(save_path+\"predicted\", 'wb') as file:\n",
        "    pickle.dump(predicted,file)"
      ],
      "execution_count": 0,
      "outputs": []
    },
    {
      "cell_type": "code",
      "metadata": {
        "id": "HoITlx7cKQe8",
        "colab_type": "code",
        "colab": {
          "base_uri": "https://localhost:8080/",
          "height": 34
        },
        "outputId": "fffe4621-1d75-4c92-e48d-8216ed211d8a"
      },
      "source": [
        "np.shape(dataset[1])"
      ],
      "execution_count": 43,
      "outputs": [
        {
          "output_type": "execute_result",
          "data": {
            "text/plain": [
              "(940, 256, 256, 3)"
            ]
          },
          "metadata": {
            "tags": []
          },
          "execution_count": 43
        }
      ]
    },
    {
      "cell_type": "code",
      "metadata": {
        "id": "rkESHYlgPgDi",
        "colab_type": "code",
        "colab": {}
      },
      "source": [
        "model_gen=load_model('gdrive/My Drive/DS 5500/GAN Model_1000/model_010000.h5')"
      ],
      "execution_count": 0,
      "outputs": []
    },
    {
      "cell_type": "code",
      "metadata": {
        "id": "bS-wMFpvP5bY",
        "colab_type": "code",
        "colab": {}
      },
      "source": [
        "def read_data(path,x,y):\n",
        "    x_train=[]\n",
        "    count=0\n",
        "    for i in range(10,510):\n",
        "        image_file=path+x+'/'+str(i)+'.jpg'\n",
        "        image_arr = plt.imread(image_file)\n",
        "        image_arr=image_arr[0:1050,0:1100]\n",
        "#         image_arr= cv.resize(image_arr,(256,256))\n",
        "        image_arr= image_arr[...,:3]\n",
        "        image_resized = resize(image_arr, (512, 512),anti_aliasing=True)\n",
        "#         x_train.append(image_arr[0:1050,0:1100])\n",
        "        x_train.append(image_resized)\n",
        "        count+=1\n",
        "        if(count%100==0):\n",
        "           print(count)\n",
        "          \n",
        "    print(\"started for y\")\n",
        "    y_train=[]\n",
        "    count=0\n",
        "    for i in range(10,510):\n",
        "        image_file=path+y+'/'+str(i)+'.jpg'\n",
        "        image_arr = plt.imread(image_file)\n",
        "        image_arr\n",
        "        image_arr=image_arr[0:1050,0:1100]\n",
        "        # im = im.resize((256, 256), Image.ANTIALIAS)\n",
        "        image_arr= image_arr[...,:3]\n",
        "#         image_arr= cv.resize(image_arr,(256,256))\n",
        "        image_resized = resize(image_arr, (512, 512),anti_aliasing=True)\n",
        "        y_train.append(image_resized)\n",
        "        count+=1\n",
        "        if (count%100==0):\n",
        "          print(count)\n",
        "#         y_train.append(image_arr[0:1050,0:1100])\n",
        "    \n",
        "    return [asarray(x_train), asarray(y_train)] "
      ],
      "execution_count": 0,
      "outputs": []
    },
    {
      "cell_type": "code",
      "metadata": {
        "id": "htFoRG87P5hp",
        "colab_type": "code",
        "colab": {
          "base_uri": "https://localhost:8080/",
          "height": 202
        },
        "outputId": "e259aba1-67aa-420d-df40-092321ad0be5"
      },
      "source": [
        "path= 'gdrive/My Drive/DS 5500/Data/Google_Images/'\n",
        "dataset= read_data(path,'superimposed_1000','street_1000')"
      ],
      "execution_count": 7,
      "outputs": [
        {
          "output_type": "stream",
          "text": [
            "100\n",
            "200\n",
            "300\n",
            "400\n",
            "500\n",
            "started for y\n",
            "100\n",
            "200\n",
            "300\n",
            "400\n",
            "500\n"
          ],
          "name": "stdout"
        }
      ]
    },
    {
      "cell_type": "code",
      "metadata": {
        "id": "WNtQzfDuP5ml",
        "colab_type": "code",
        "colab": {}
      },
      "source": [
        "np.shape(predicted)"
      ],
      "execution_count": 0,
      "outputs": []
    },
    {
      "cell_type": "code",
      "metadata": {
        "id": "wqb3q_zvPhaf",
        "colab_type": "code",
        "colab": {}
      },
      "source": [
        "predicted=model_gen.predict(dataset[0])"
      ],
      "execution_count": 0,
      "outputs": []
    },
    {
      "cell_type": "code",
      "metadata": {
        "id": "myZCMAfmPhrA",
        "colab_type": "code",
        "colab": {}
      },
      "source": [
        "save_path='gdrive/My Drive/DS 5500/Evaluation/old_working/'\n",
        "with open(save_path+\"dataset\", 'wb') as file:\n",
        "    pickle.dump(dataset,file)"
      ],
      "execution_count": 0,
      "outputs": []
    },
    {
      "cell_type": "code",
      "metadata": {
        "id": "89EN6G6qUz5O",
        "colab_type": "code",
        "colab": {}
      },
      "source": [
        "save_path='gdrive/My Drive/DS 5500/Evaluation/old_working/'\n",
        "with open(save_path+\"predicted\", 'wb') as file:\n",
        "    pickle.dump(predicted,file)"
      ],
      "execution_count": 0,
      "outputs": []
    },
    {
      "cell_type": "code",
      "metadata": {
        "id": "EkU3H2dM6pf9",
        "colab_type": "code",
        "colab": {}
      },
      "source": [
        ""
      ],
      "execution_count": 0,
      "outputs": []
    },
    {
      "cell_type": "code",
      "metadata": {
        "id": "jkyodNRy6pmK",
        "colab_type": "code",
        "colab": {
          "base_uri": "https://localhost:8080/",
          "height": 34
        },
        "outputId": "bb639ed9-bdbd-4406-c4a8-ba285e3419a8"
      },
      "source": [
        "path= 'gdrive/My Drive/DS 5500/Evaluation/old_working/dataset'\n",
        "predicted = open(path,'rb')\n",
        "dataset_file = pickle.load(predicted)\n",
        "predicted.close"
      ],
      "execution_count": 6,
      "outputs": [
        {
          "output_type": "execute_result",
          "data": {
            "text/plain": [
              "<function BufferedReader.close>"
            ]
          },
          "metadata": {
            "tags": []
          },
          "execution_count": 6
        }
      ]
    },
    {
      "cell_type": "code",
      "metadata": {
        "id": "5KwFCTKq7ZSg",
        "colab_type": "code",
        "colab": {}
      },
      "source": [
        "im = Image.fromarray(np.uint8(cm.gist_earth(dataset_file[1][1])*255))"
      ],
      "execution_count": 0,
      "outputs": []
    },
    {
      "cell_type": "code",
      "metadata": {
        "id": "KY1tIE_K69kZ",
        "colab_type": "code",
        "colab": {}
      },
      "source": [
        "im = Image.fromarray(np.uint8(cm.gist_earth(dataset_file[1][1])*255)[...,:3])"
      ],
      "execution_count": 0,
      "outputs": []
    },
    {
      "cell_type": "code",
      "metadata": {
        "id": "WZeXmtdH8eyd",
        "colab_type": "code",
        "colab": {
          "base_uri": "https://localhost:8080/",
          "height": 34
        },
        "outputId": "d64b844f-493c-4d49-dc95-58975a55fcf4"
      },
      "source": [
        "np.shape(np.uint8(cm.gist_earth(dataset_file[1][1])*255)[...,:3])"
      ],
      "execution_count": 22,
      "outputs": [
        {
          "output_type": "execute_result",
          "data": {
            "text/plain": [
              "(512, 512, 3, 3)"
            ]
          },
          "metadata": {
            "tags": []
          },
          "execution_count": 22
        }
      ]
    }
  ]
}